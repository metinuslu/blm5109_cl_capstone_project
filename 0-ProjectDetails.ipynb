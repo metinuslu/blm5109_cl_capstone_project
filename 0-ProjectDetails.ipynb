{
 "cells": [
  {
   "cell_type": "markdown",
   "id": "8b1ec0ef-16a8-4e2f-8625-0900ffd0036b",
   "metadata": {},
   "source": [
    "# YTU Cosmos DPO Modeli üzerinde 10 Atışlı Bağlam İçi Öğrenme Kullanarak 3 Farklı Topluluk Yönteminin Karşılaştırılması\n",
    "\n",
    "> `10 Atışlı Bağlam İçi Öğrenme Kullanarak 3 Farklı Topluluk Yönteminin Karşılaştırılması`\n",
    "\n",
    "## Model\n",
    "- **YTU Cosmos Turkish-Llama-8b-DPO-v0.1**: https://huggingface.co/ytu-ce-cosmos/Turkish-Llama-8b-DPO-v0.1\n",
    "\n",
    "## Veri Setleri\n",
    "- **ARC-TR**: https://huggingface.co/datasets/malhajar/arc-tr\n",
    "- **HellaSwag-TR**: https://huggingface.co/datasets/malhajar/hellaswag-tr\n",
    "- **GSM8K-TR**: https://huggingface.co/datasets/malhajar/gsm8k_tr-v0.2\n",
    "\n",
    "## Karşılaştırma\n",
    "- **Karşılaştırma için araç**: [EleutherAI LM Evaluation Harness](https://github.com/EleutherAI/lm-evaluation-harness)\n",
    "\n",
    "## Yapılacaklar\n",
    "\n",
    "### Step-1: Sabit Örnek Belirleme\n",
    "- Her bir veri seti içerisinden **10 adet sabit örnek** belirle. (**10 Shot**)\n",
    "\n",
    "### Step-2: 400 Örnek Seçimi\n",
    "- Her bir veri setinden **400 adet örnek** seç.\n",
    "- **400 örneğin her biri**, buradaki **11. soru** olacak.\n",
    "\n",
    "### Step-3: Örneklerin Test Edilmesi\n",
    "- 11. örnekler bu **400 örneğin her biri** olacak.\n",
    "  - 400'ün içerisinden bir tanesi 11. örnek olarak seçilir ve cevabı alınır.\n",
    "  - 400'ün içerisinden 2. örnek seçilir, cevabı alınır.\n",
    "  - Bu işlem **400. örneğe** kadar devam eder.\n",
    "\n",
    "### Step-4: 10 Shot Sonuçlarının Tamamlanması\n",
    "- 10 Shot sonuçları analiz edilir.\n",
    "\n",
    "### Step-5: Ensemble (Size=10)\n",
    "#### A. Yerine Koymalı Rastgele Seçim\n",
    "- **10'ar kere olmak üzere** 10'lu örnekten **10 tane rastgele Yerine Koymalı** seçim yapılır.\n",
    "  - (Farklı farklı 10'luk gruplar oluşturulur. 1 örnek için **10 cevap** alınır.)\n",
    "\n",
    "#### B. Yerine Koymasız Seçim\n",
    "- **10'ar kere olmak üzere**, 10 örnekten **5 tane Yerine Koymasız** seçim yapılır.\n",
    "\n",
    "#### C. Sıra Karışıklığı ile Seçim\n",
    "- **10'ar kere olmak üzere**, 10'lu örneklerin sıraları değiştirilerek seçim yapılır.\n",
    "  - (Sıra değişikliğinin sonuçları etkileyip etkilemeyeceği analiz edilir.)\n",
    "\n",
    "### Step-6: Evaluation\n",
    "- Değerlendirme işlemleri için [EleutherAI LM Evaluation Harness](https://github.com/EleutherAI/lm-evaluation-harness) kullanılır.\n",
    "\n",
    "### Step-7: Reporting\n",
    "- Raporlama işlemleri **IEEE Conference Template** kullanılarak gerçekleştirilir.\n"
   ]
  },
  {
   "cell_type": "code",
   "execution_count": null,
   "id": "c9d6b02e-67ed-4e83-a2ec-53b15c652396",
   "metadata": {},
   "outputs": [],
   "source": []
  }
 ],
 "metadata": {
  "kernelspec": {
   "display_name": "Python 3 (ipykernel)",
   "language": "python",
   "name": "python3"
  },
  "language_info": {
   "codemirror_mode": {
    "name": "ipython",
    "version": 3
   },
   "file_extension": ".py",
   "mimetype": "text/x-python",
   "name": "python",
   "nbconvert_exporter": "python",
   "pygments_lexer": "ipython3",
   "version": "3.12.7"
  }
 },
 "nbformat": 4,
 "nbformat_minor": 5
}
